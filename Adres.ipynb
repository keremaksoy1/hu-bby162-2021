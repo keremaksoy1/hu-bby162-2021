{
  "nbformat": 4,
  "nbformat_minor": 0,
  "metadata": {
    "colab": {
      "name": "Adres.ipynb",
      "provenance": [],
      "mount_file_id": "1VMXtnYagXETV_WuEd-Mpm9LOH_d2oKqo",
      "authorship_tag": "ABX9TyO8m/mf8kTOzcrp1E6nVyiZ",
      "include_colab_link": true
    },
    "kernelspec": {
      "name": "python3",
      "display_name": "Python 3"
    },
    "language_info": {
      "name": "python"
    }
  },
  "cells": [
    {
      "cell_type": "markdown",
      "metadata": {
        "id": "view-in-github",
        "colab_type": "text"
      },
      "source": [
        "<a href=\"https://colab.research.google.com/github/keremaksoy1/hu-bby162-2021/blob/main/Adres.ipynb\" target=\"_parent\"><img src=\"https://colab.research.google.com/assets/colab-badge.svg\" alt=\"Open In Colab\"/></a>"
      ]
    },
    {
      "cell_type": "code",
      "metadata": {
        "colab": {
          "base_uri": "https://localhost:8080/"
        },
        "id": "LuwL5SN7etg7",
        "outputId": "5d56c585-1e7f-4a37-d4cc-6b2dfc104fc7"
      },
      "source": [
        "dosya = \"/content/drive/MyDrive/Colab Notebooks/Adres.txt\"\n",
        "\n",
        "adSoyad = input(\"Adınızı Soyadınızı Giriniz\")\n",
        "eposta = input(\"E-posta adresinizi giriniz\")\n",
        "\n",
        "f = open(dosya, 'w') \n",
        "f.write(adSoyad + \" : \" + eposta + \"\\n\") \n",
        "f.close()\n",
        "\n",
        "dosya = \"/content/drive/MyDrive/Colab Notebooks/Adres.txt\"\n",
        "\n",
        "f = open(dosya, \"r\") \n",
        "\n",
        "for line in f.readlines():\n",
        "    print(line)\n",
        "\n",
        "f.close()"
      ],
      "execution_count": 2,
      "outputs": [
        {
          "output_type": "stream",
          "text": [
            "Adınızı Soyadınızı GirinizKerem AKSOY\n",
            "E-posta adresinizi girinizkeremaksoyuni1@gmail.com\n",
            "Kerem AKSOY : keremaksoyuni1@gmail.com\n",
            "\n"
          ],
          "name": "stdout"
        }
      ]
    }
  ]
}