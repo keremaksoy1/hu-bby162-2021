{
  "nbformat": 4,
  "nbformat_minor": 0,
  "metadata": {
    "colab": {
      "name": "Adres.ipynb",
      "provenance": [],
      "mount_file_id": "18TsVNBfA46rjAg8-O_yYNjIY8wdOdWhh",
      "authorship_tag": "ABX9TyO7lUVeT4tjA63Atuj2S2mO",
      "include_colab_link": true
    },
    "kernelspec": {
      "name": "python3",
      "display_name": "Python 3"
    },
    "language_info": {
      "name": "python"
    }
  },
  "cells": [
    {
      "cell_type": "markdown",
      "metadata": {
        "id": "view-in-github",
        "colab_type": "text"
      },
      "source": [
        "<a href=\"https://colab.research.google.com/github/keremaksoy1/hu-bby162-2021/blob/main/Adres.ipynb\" target=\"_parent\"><img src=\"https://colab.research.google.com/assets/colab-badge.svg\" alt=\"Open In Colab\"/></a>"
      ]
    },
    {
      "cell_type": "code",
      "metadata": {
        "colab": {
          "base_uri": "https://localhost:8080/"
        },
        "id": "7j3NOrMqzFqU",
        "outputId": "bb7ff4eb-a95e-4128-9e50-cd0c5b96e45d"
      },
      "source": [
        "from google.colab import drive\n",
        "drive.mount('/content/drive')\n",
        "\n",
        "dosya = \"/content/drive/MyDrive/Colab Notebooks/Adres.txt\"\n",
        "\n",
        "f = open(dosya, \"r\") \n",
        "\n",
        "for line in f.readlines():\n",
        "    print(line)\n",
        "\n",
        "f.close()"
      ],
      "execution_count": 1,
      "outputs": [
        {
          "output_type": "stream",
          "text": [
            "Drive already mounted at /content/drive; to attempt to forcibly remount, call drive.mount(\"/content/drive\", force_remount=True).\n",
            "Kerem AKSOY\n",
            "\n",
            "\n",
            "\n",
            "keremaksoyuni1@gmail.com\n"
          ],
          "name": "stdout"
        }
      ]
    },
    {
      "cell_type": "code",
      "metadata": {
        "colab": {
          "base_uri": "https://localhost:8080/"
        },
        "id": "AcfX5zNkzrwK",
        "outputId": "f12a1960-ef42-46d0-e535-058c627dc4f0"
      },
      "source": [
        "from google.colab import drive\n",
        "drive.mount('/content/drive')\n",
        " \n",
        "dosya = \"/content/drive/MyDrive/Colab Notebooks/Adres.txt\"\n",
        "\n",
        "f = open(dosya, 'w') \n",
        "f.write(\"Kerem AKSOY\\n keremaksoyuni1@gmail.com\") \n",
        "f.close()"
      ],
      "execution_count": 2,
      "outputs": [
        {
          "output_type": "stream",
          "text": [
            "Drive already mounted at /content/drive; to attempt to forcibly remount, call drive.mount(\"/content/drive\", force_remount=True).\n"
          ],
          "name": "stdout"
        }
      ]
    }
  ]
}